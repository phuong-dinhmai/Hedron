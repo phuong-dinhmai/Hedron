{
 "cells": [
  {
   "cell_type": "code",
   "execution_count": 1,
   "metadata": {},
   "outputs": [],
   "source": [
    "import numpy as np\n",
    "import pandas as pd\n",
    "import matplotlib.pyplot as plt"
   ]
  },
  {
   "cell_type": "code",
   "execution_count": 2,
   "metadata": {},
   "outputs": [
    {
     "data": {
      "text/html": [
       "<div>\n",
       "<style scoped>\n",
       "    .dataframe tbody tr th:only-of-type {\n",
       "        vertical-align: middle;\n",
       "    }\n",
       "\n",
       "    .dataframe tbody tr th {\n",
       "        vertical-align: top;\n",
       "    }\n",
       "\n",
       "    .dataframe thead th {\n",
       "        text-align: right;\n",
       "    }\n",
       "</style>\n",
       "<table border=\"1\" class=\"dataframe\">\n",
       "  <thead>\n",
       "    <tr style=\"text-align: right;\">\n",
       "      <th></th>\n",
       "      <th>user id</th>\n",
       "      <th>movie id</th>\n",
       "      <th>rating</th>\n",
       "      <th>timestamp</th>\n",
       "    </tr>\n",
       "  </thead>\n",
       "  <tbody>\n",
       "    <tr>\n",
       "      <th>0</th>\n",
       "      <td>196</td>\n",
       "      <td>242</td>\n",
       "      <td>3</td>\n",
       "      <td>881250949</td>\n",
       "    </tr>\n",
       "    <tr>\n",
       "      <th>1</th>\n",
       "      <td>186</td>\n",
       "      <td>302</td>\n",
       "      <td>3</td>\n",
       "      <td>891717742</td>\n",
       "    </tr>\n",
       "    <tr>\n",
       "      <th>2</th>\n",
       "      <td>22</td>\n",
       "      <td>377</td>\n",
       "      <td>1</td>\n",
       "      <td>878887116</td>\n",
       "    </tr>\n",
       "    <tr>\n",
       "      <th>3</th>\n",
       "      <td>244</td>\n",
       "      <td>51</td>\n",
       "      <td>2</td>\n",
       "      <td>880606923</td>\n",
       "    </tr>\n",
       "    <tr>\n",
       "      <th>4</th>\n",
       "      <td>166</td>\n",
       "      <td>346</td>\n",
       "      <td>1</td>\n",
       "      <td>886397596</td>\n",
       "    </tr>\n",
       "  </tbody>\n",
       "</table>\n",
       "</div>"
      ],
      "text/plain": [
       "   user id  movie id  rating  timestamp\n",
       "0      196       242       3  881250949\n",
       "1      186       302       3  891717742\n",
       "2       22       377       1  878887116\n",
       "3      244        51       2  880606923\n",
       "4      166       346       1  886397596"
      ]
     },
     "execution_count": 2,
     "metadata": {},
     "output_type": "execute_result"
    }
   ],
   "source": [
    "data = pd.read_csv('data/movielens_100k/ml-100k/u.data', sep=\"\\t\", header=None)\n",
    "data.columns = ['user id', 'movie id', 'rating', 'timestamp']\n",
    "data.head()"
   ]
  },
  {
   "cell_type": "code",
   "execution_count": 3,
   "metadata": {},
   "outputs": [
    {
     "name": "stdout",
     "output_type": "stream",
     "text": [
      "50      583\n",
      "258     509\n",
      "100     508\n",
      "181     507\n",
      "294     485\n",
      "       ... \n",
      "852       1\n",
      "1505      1\n",
      "1653      1\n",
      "1452      1\n",
      "1641      1\n",
      "Name: movie id, Length: 1682, dtype: int64\n"
     ]
    }
   ],
   "source": [
    "item_freq = data[\"movieid\"].value_counts()\n",
    "print(item_freq)"
   ]
  },
  {
   "cell_type": "code",
   "execution_count": 4,
   "metadata": {},
   "outputs": [
    {
     "name": "stdout",
     "output_type": "stream",
     "text": [
      "movie id\n",
      "1       1753\n",
      "2        420\n",
      "3        273\n",
      "4        742\n",
      "5        284\n",
      "        ... \n",
      "1678       1\n",
      "1679       3\n",
      "1680       2\n",
      "1681       3\n",
      "1682       3\n",
      "Name: rating, Length: 1682, dtype: int64\n"
     ]
    }
   ],
   "source": [
    "sum_rating = data.groupby([\"movie id\"]).sum()[\"rating\"]\n",
    "print(sum_rating)"
   ]
  },
  {
   "cell_type": "code",
   "execution_count": 5,
   "metadata": {},
   "outputs": [],
   "source": [
    "merger_check = pd.concat([item_freq, sum_rating], axis=1)\n",
    "merger_check.columns = [\"freq\", \"sum_rate\"]"
   ]
  },
  {
   "cell_type": "code",
   "execution_count": 6,
   "metadata": {},
   "outputs": [
    {
     "name": "stdout",
     "output_type": "stream",
     "text": [
      "50      4.358491\n",
      "258     3.803536\n",
      "100     4.155512\n",
      "181     4.007890\n",
      "294     3.156701\n",
      "          ...   \n",
      "852          NaN\n",
      "1505         NaN\n",
      "1653         NaN\n",
      "1452         NaN\n",
      "1641         NaN\n",
      "Length: 1682, dtype: float64\n"
     ]
    }
   ],
   "source": [
    "temp = merger_check[merger_check > 20]\n",
    "print(temp[\"sum_rate\"].div(temp[\"freq\"]))"
   ]
  },
  {
   "cell_type": "code",
   "execution_count": 9,
   "metadata": {},
   "outputs": [
    {
     "data": {
      "text/plain": [
       "(array([611., 199., 129., 123.,  84.,  75.,  59.,  49.,  37.,  29.,  45.,\n",
       "         23.,  22.,  20.,  29.,  17.,  12.,  13.,  17.,   8.,  10.,  11.,\n",
       "          7.,   6.,   4.,  13.,   1.,   5.,   2.,   3.,   0.,   2.,   2.,\n",
       "          3.,   0.,   2.,   2.,   0.,   1.,   0.,   1.,   2.,   0.,   3.,\n",
       "          0.,   0.,   0.,   0.,   0.,   1.]),\n",
       " array([  1.  ,  12.64,  24.28,  35.92,  47.56,  59.2 ,  70.84,  82.48,\n",
       "         94.12, 105.76, 117.4 , 129.04, 140.68, 152.32, 163.96, 175.6 ,\n",
       "        187.24, 198.88, 210.52, 222.16, 233.8 , 245.44, 257.08, 268.72,\n",
       "        280.36, 292.  , 303.64, 315.28, 326.92, 338.56, 350.2 , 361.84,\n",
       "        373.48, 385.12, 396.76, 408.4 , 420.04, 431.68, 443.32, 454.96,\n",
       "        466.6 , 478.24, 489.88, 501.52, 513.16, 524.8 , 536.44, 548.08,\n",
       "        559.72, 571.36, 583.  ]),\n",
       " <BarContainer object of 50 artists>)"
      ]
     },
     "execution_count": 9,
     "metadata": {},
     "output_type": "execute_result"
    },
    {
     "data": {
      "image/png": "[encoded data removed]",
      "text/plain": [
       "<Figure size 640x480 with 1 Axes>"
      ]
     },
     "metadata": {},
     "output_type": "display_data"
    }
   ],
   "source": [
    "s = merger_check[\"freq\"]\n",
    "plt.hist(s, bins=50)"
   ]
  },
  {
   "cell_type": "code",
   "execution_count": 19,
   "metadata": {},
   "outputs": [
    {
     "name": "stdout",
     "output_type": "stream",
     "text": [
      "      freq  sum_rate  popular  unpopular\n",
      "852      1         1        0          1\n",
      "1505     1         4        0          1\n",
      "1653     1         5        0          1\n",
      "1452     1         4        0          1\n",
      "1641     1         3        0          1\n"
     ]
    }
   ],
   "source": [
    "bound = np.percentile(s, 70)\n",
    "merger_check[\"popular\"] = merger_check[\"freq\"] >= bound\n",
    "merger_check[\"popular\"] = merger_check[\"popular\"].astype(\"int32\")\n",
    "merger_check[\"unpopular\"] = merger_check[\"freq\"] < bound\n",
    "merger_check[\"unpopular\"] = merger_check[\"unpopular\"].astype(\"int32\")\n",
    "print(merger_check.tail())"
   ]
  },
  {
   "cell_type": "code",
   "execution_count": 21,
   "metadata": {},
   "outputs": [
    {
     "name": "stdout",
     "output_type": "stream",
     "text": [
      "507\n"
     ]
    }
   ],
   "source": [
    "print(merger_check[\"popular\"].sum())"
   ]
  },
  {
   "cell_type": "code",
   "execution_count": 20,
   "metadata": {},
   "outputs": [],
   "source": [
    "merger_check.to_csv(\"/home/phuong/Documents/expohedron/BPR/output/data_analysis.csv\")"
   ]
  }
 ],
 "metadata": {
  "kernelspec": {
   "display_name": "Python 3.8.16 ('expohedron')",
   "language": "python",
   "name": "python3"
  },
  "language_info": {
   "codemirror_mode": {
    "name": "ipython",
    "version": 3
   },
   "file_extension": ".py",
   "mimetype": "text/x-python",
   "name": "python",
   "nbconvert_exporter": "python",
   "pygments_lexer": "ipython3",
   "version": "3.8.16"
  },
  "orig_nbformat": 4,
  "vscode": {
   "interpreter": {
    "hash": "5dc2e064328e00b32eab546212a1f988844a72e40ab11fd556490a842abe31b6"
   }
  }
 },
 "nbformat": 4,
 "nbformat_minor": 2
}